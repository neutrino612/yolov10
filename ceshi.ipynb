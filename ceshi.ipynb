{
 "cells": [
  {
   "cell_type": "code",
   "execution_count": 9,
   "metadata": {},
   "outputs": [],
   "source": [
    "import onnxruntime as ort\n",
    "session = ort.InferenceSession(\"yolov10m.onnx\", providers=[\"CPUExecutionProvider\"])"
   ]
  },
  {
   "cell_type": "markdown",
   "metadata": {},
   "source": [
    "这里的providers参数根据自己的实际情况设置，我使用的是GPU所以设置的是\"CUDAExecutionProvider\"。\n",
    "如果用CPU进行推理，则需设置为\"CPUExecutionProvider\"；\n",
    "如果有TensorRT的环境，还可以设置为\"TensorrtExecutionProvider\""
   ]
  },
  {
   "cell_type": "code",
   "execution_count": 10,
   "metadata": {},
   "outputs": [
    {
     "name": "stdout",
     "output_type": "stream",
     "text": [
      "input name:  images\n",
      "input shape:  [1, 3, 640, 640]\n",
      "input type:  tensor(float)\n",
      "output name:  output0\n",
      "output shape:  [1, 300, 6]\n",
      "output type:  tensor(float)\n"
     ]
    }
   ],
   "source": [
    "# 查看模型的输入层和输出层的属性\n",
    "for input in session.get_inputs():\n",
    "   print(\"input name: \", input.name)\n",
    "   print(\"input shape: \", input.shape)\n",
    "   print(\"input type: \", input.type)\n",
    "\n",
    "for output in session.get_outputs():\n",
    "   print(\"output name: \", output.name)\n",
    "   print(\"output shape: \", output.shape)\n",
    "   print(\"output type: \", output.type)"
   ]
  },
  {
   "cell_type": "markdown",
   "metadata": {},
   "source": [
    "从上面的打印信息可以知道，模型有一个尺寸为[1, 3, 640, 640]的输入层和一个尺寸分别为[1, 300, 6]的输出层。"
   ]
  },
  {
   "cell_type": "code",
   "execution_count": 11,
   "metadata": {},
   "outputs": [],
   "source": [
    "import cv2\n",
    "import numpy as np"
   ]
  },
  {
   "cell_type": "code",
   "execution_count": 12,
   "metadata": {},
   "outputs": [],
   "source": [
    "# 实现下面数据预处理的函数，preprocess\n",
    "def preprocess(bgr_image, src_w, src_h, dst_w, dst_h):\n",
    "   image = cv2.cvtColor(bgr_image, cv2.COLOR_BGR2RGB)\n",
    "   \n",
    "   ratio = min(dst_w/src_w, dst_h/src_h)\n",
    "   border_w = int(round(src_w * ratio / 2) * 2)\n",
    "   border_h = int(round(src_h * ratio / 2) * 2)\n",
    "   x_offset = (dst_w - border_w ) // 2  \n",
    "   y_offset = (dst_h - border_h ) // 2\n",
    "\n",
    "   image = cv2.resize(image, (border_w, border_h))\n",
    "   image = cv2.copyMakeBorder(\n",
    "       image, y_offset, y_offset, x_offset, x_offset, \n",
    "       cv2.BORDER_CONSTANT, value=(114, 114, 114)\n",
    "       )\n",
    "\n",
    "   image = image.astype(np.float32) / 255.0\n",
    "   image = np.transpose(image, (2, 0, 1))\n",
    "   input_tensor = np.expand_dims(image, axis=0)\n",
    "   return input_tensor, ratio, x_offset, y_offset\n"
   ]
  },
  {
   "cell_type": "markdown",
   "metadata": {},
   "source": [
    "整个数据预处理的流程如下：\n",
    "上面的preprocess函数：\n",
    "把OpenCV读取的BGR格式图片转换为RGB格式；\n",
    "计算缩放比例和需要填充的区域，把原始图片进行等比例缩放，对不足的区域进行填充让输入图片的尺寸匹配模型的输入尺寸；\n",
    "对像素值除以255做归一化操作；\n",
    "把图像数据的通道顺序由HWC调整为CHW；\n",
    "扩展数据维度，将数据的维度调整为NCHW。"
   ]
  },
  {
   "cell_type": "code",
   "execution_count": null,
   "metadata": {},
   "outputs": [],
   "source": [
    "#       数据预处理 用opencv读取图片后，首先要做预处理                                                                                                                                                                                                                                                                                                                                                                                                                                                                       数据预处理\n",
    "image = cv2.imread(\"DJI_20240616080249_0066_V.jpeg\")\n",
    "print(\"image shape: \", image.shape)\n",
    "image_height, image_width, _ = image.shape\n",
    "_, _, model_height, model_width = session.get_inputs()[0].shape\n",
    "\n",
    "input_tensor, ratio, x_offset, y_offset = preprocess(image, image_width, image_height, model_width, model_height)\n"
   ]
  },
  {
   "cell_type": "code",
   "execution_count": 15,
   "metadata": {},
   "outputs": [
    {
     "name": "stdout",
     "output_type": "stream",
     "text": [
      "New https://pypi.org/project/ultralytics/8.3.23 available 😃 Update with 'pip install -U ultralytics'\n",
      "Ultralytics YOLOv8.1.34 🚀 Python-3.9.18 torch-2.0.1+cpu CPU (11th Gen Intel Core(TM) i7-1165G7 2.80GHz)\n",
      "\u001b[34m\u001b[1mengine\\trainer: \u001b[0mtask=detect, mode=train, model=D:/LMself/yolo/yolov10/ultralytics/cfg/models/v10/yolov10m.yaml, data=D:/LMself/yolo/yolov10/coco.yaml, epochs=10, time=None, patience=100, batch=16, imgsz=640, save=True, save_period=-1, val_period=1, cache=False, device=None, workers=8, project=None, name=train_yolov10s2, exist_ok=False, pretrained=True, optimizer=auto, verbose=True, seed=0, deterministic=True, single_cls=False, rect=False, cos_lr=False, close_mosaic=10, resume=False, amp=True, fraction=1.0, profile=False, freeze=None, multi_scale=False, overlap_mask=True, mask_ratio=4, dropout=0.0, val=True, split=val, save_json=False, save_hybrid=False, conf=None, iou=0.7, max_det=300, half=False, dnn=False, plots=True, source=None, vid_stride=1, stream_buffer=False, visualize=False, augment=False, agnostic_nms=False, classes=None, retina_masks=False, embed=None, show=False, save_frames=False, save_txt=False, save_conf=False, save_crop=False, show_labels=True, show_conf=True, show_boxes=True, line_width=None, format=torchscript, keras=False, optimize=False, int8=False, dynamic=False, simplify=False, opset=None, workspace=4, nms=False, lr0=0.01, lrf=0.01, momentum=0.937, weight_decay=0.0005, warmup_epochs=3.0, warmup_momentum=0.8, warmup_bias_lr=0.1, box=7.5, cls=0.5, dfl=1.5, pose=12.0, kobj=1.0, label_smoothing=0.0, nbs=64, hsv_h=0.015, hsv_s=0.7, hsv_v=0.4, degrees=0.0, translate=0.1, scale=0.5, shear=0.0, perspective=0.0, flipud=0.0, fliplr=0.5, bgr=0.0, mosaic=1.0, mixup=0.0, copy_paste=0.0, auto_augment=randaugment, erasing=0.4, crop_fraction=1.0, cfg=None, tracker=botsort.yaml, save_dir=D:\\LMself\\yolo\\yolov10\\runs\\detect\\train_yolov10s2\n",
      "Downloading https://ultralytics.com/assets/Arial.ttf to 'C:\\Users\\25196\\AppData\\Roaming\\yolov10\\Arial.ttf'...\n"
     ]
    },
    {
     "name": "stderr",
     "output_type": "stream",
     "text": [
      "100%|██████████| 755k/755k [00:09<00:00, 83.4kB/s]"
     ]
    },
    {
     "name": "stdout",
     "output_type": "stream",
     "text": [
      "\n",
      "                   from  n    params  module                                       arguments                     \n"
     ]
    },
    {
     "name": "stderr",
     "output_type": "stream",
     "text": [
      "\n"
     ]
    },
    {
     "name": "stdout",
     "output_type": "stream",
     "text": [
      "  0                  -1  1      1392  ultralytics.nn.modules.conv.Conv             [3, 48, 3, 2]                 \n",
      "  1                  -1  1     41664  ultralytics.nn.modules.conv.Conv             [48, 96, 3, 2]                \n",
      "  2                  -1  2    111360  ultralytics.nn.modules.block.C2f             [96, 96, 2, True]             \n",
      "  3                  -1  1    166272  ultralytics.nn.modules.conv.Conv             [96, 192, 3, 2]               \n",
      "  4                  -1  4    813312  ultralytics.nn.modules.block.C2f             [192, 192, 4, True]           \n",
      "  5                  -1  1     78720  ultralytics.nn.modules.block.SCDown          [192, 384, 3, 2]              \n",
      "  6                  -1  4   3248640  ultralytics.nn.modules.block.C2f             [384, 384, 4, True]           \n",
      "  7                  -1  1    228672  ultralytics.nn.modules.block.SCDown          [384, 576, 3, 2]              \n",
      "  8                  -1  2   1689984  ultralytics.nn.modules.block.C2fCIB          [576, 576, 2, True]           \n",
      "  9                  -1  1    831168  ultralytics.nn.modules.block.SPPF            [576, 576, 5]                 \n",
      " 10                  -1  1   1253088  ultralytics.nn.modules.block.PSA             [576, 576]                    \n",
      " 11                  -1  1         0  torch.nn.modules.upsampling.Upsample         [None, 2, 'nearest']          \n",
      " 12             [-1, 6]  1         0  ultralytics.nn.modules.conv.Concat           [1]                           \n",
      " 13                  -1  2   1993728  ultralytics.nn.modules.block.C2f             [960, 384, 2]                 \n",
      " 14                  -1  1         0  torch.nn.modules.upsampling.Upsample         [None, 2, 'nearest']          \n",
      " 15             [-1, 4]  1         0  ultralytics.nn.modules.conv.Concat           [1]                           \n",
      " 16                  -1  2    517632  ultralytics.nn.modules.block.C2f             [576, 192, 2]                 \n",
      " 17                  -1  1    332160  ultralytics.nn.modules.conv.Conv             [192, 192, 3, 2]              \n",
      " 18            [-1, 13]  1         0  ultralytics.nn.modules.conv.Concat           [1]                           \n",
      " 19                  -1  2    831744  ultralytics.nn.modules.block.C2fCIB          [576, 384, 2, True]           \n",
      " 20                  -1  1    152448  ultralytics.nn.modules.block.SCDown          [384, 384, 3, 2]              \n",
      " 21            [-1, 10]  1         0  ultralytics.nn.modules.conv.Concat           [1]                           \n",
      " 22                  -1  2   1911168  ultralytics.nn.modules.block.C2fCIB          [960, 576, 2, True]           \n",
      " 23        [16, 19, 22]  1   2282134  ultralytics.nn.modules.head.v10Detect        [1, [192, 384, 576]]          \n",
      "YOLOv10m summary: 498 layers, 16485286 parameters, 16485270 gradients, 64.0 GFLOPs\n",
      "\n",
      "Freezing layer 'model.23.dfl.conv.weight'\n"
     ]
    },
    {
     "name": "stderr",
     "output_type": "stream",
     "text": [
      "\u001b[34m\u001b[1mtrain: \u001b[0mScanning D:\\LMself\\yolo\\datasets\\train... 0 images, 8 backgrounds, 0 corrupt: 100%|██████████| 8/8 [00:00<00:00, 43.46it/s]"
     ]
    },
    {
     "name": "stdout",
     "output_type": "stream",
     "text": [
      "\u001b[34m\u001b[1mtrain: \u001b[0mWARNING ⚠️ No labels found in D:\\LMself\\yolo\\datasets\\train.cache. See https://docs.ultralytics.com/datasets/detect for dataset formatting guidance.\n",
      "\u001b[34m\u001b[1mtrain: \u001b[0mNew cache created: D:\\LMself\\yolo\\datasets\\train.cache\n",
      "WARNING ⚠️ No labels found in D:\\LMself\\yolo\\datasets\\train.cache, training may not work correctly. See https://docs.ultralytics.com/datasets/detect for dataset formatting guidance.\n"
     ]
    },
    {
     "name": "stderr",
     "output_type": "stream",
     "text": [
      "\n",
      "\u001b[34m\u001b[1mval: \u001b[0mScanning D:\\LMself\\yolo\\datasets\\val... 0 images, 7 backgrounds, 0 corrupt: 100%|██████████| 7/7 [00:00<00:00, 362.38it/s]"
     ]
    },
    {
     "name": "stdout",
     "output_type": "stream",
     "text": [
      "\u001b[34m\u001b[1mval: \u001b[0mWARNING ⚠️ No labels found in D:\\LMself\\yolo\\datasets\\val.cache. See https://docs.ultralytics.com/datasets/detect for dataset formatting guidance.\n",
      "\u001b[34m\u001b[1mval: \u001b[0mNew cache created: D:\\LMself\\yolo\\datasets\\val.cache\n",
      "WARNING ⚠️ No labels found in D:\\LMself\\yolo\\datasets\\val.cache, training may not work correctly. See https://docs.ultralytics.com/datasets/detect for dataset formatting guidance.\n"
     ]
    },
    {
     "name": "stderr",
     "output_type": "stream",
     "text": [
      "\n"
     ]
    },
    {
     "name": "stdout",
     "output_type": "stream",
     "text": [
      "Plotting labels to D:\\LMself\\yolo\\yolov10\\runs\\detect\\train_yolov10s2\\labels.jpg... \n",
      "zero-size array to reduction operation maximum which has no identity\n",
      "\u001b[34m\u001b[1moptimizer:\u001b[0m 'optimizer=auto' found, ignoring 'lr0=0.01' and 'momentum=0.937' and determining best 'optimizer', 'lr0' and 'momentum' automatically... \n",
      "\u001b[34m\u001b[1moptimizer:\u001b[0m AdamW(lr=0.002, momentum=0.9) with parameter groups 129 weight(decay=0.0), 142 weight(decay=0.0005), 141 bias(decay=0.0)\n",
      "Image sizes 640 train, 640 val\n",
      "Using 0 dataloader workers\n",
      "Logging results to \u001b[1mD:\\LMself\\yolo\\yolov10\\runs\\detect\\train_yolov10s2\u001b[0m\n",
      "Starting training for 10 epochs...\n",
      "Closing dataloader mosaic\n",
      "\n",
      "      Epoch    GPU_mem     box_om     cls_om     dfl_om     box_oo     cls_oo     dfl_oo  Instances       Size\n"
     ]
    },
    {
     "name": "stderr",
     "output_type": "stream",
     "text": [
      "  0%|          | 0/1 [00:00<?, ?it/s]"
     ]
    },
    {
     "ename": "",
     "evalue": "",
     "output_type": "error",
     "traceback": [
      "\u001b[1;31m在当前单元格或上一个单元格中执行代码时 Kernel 崩溃。\n",
      "\u001b[1;31m请查看单元格中的代码，以确定故障的可能原因。\n",
      "\u001b[1;31m单击<a href='https://aka.ms/vscodeJupyterKernelCrash'>此处</a>了解详细信息。\n",
      "\u001b[1;31m有关更多详细信息，请查看 Jupyter <a href='command:jupyter.viewOutput'>log</a>。"
     ]
    }
   ],
   "source": [
    "from ultralytics import YOLOv10\n",
    " \n",
    "#数据集配置文件\n",
    "data_yaml_path = r'D:/LMself/yolo/yolov10/coco.yaml'\n",
    "#预训练模型\n",
    "pre_model_name = r'D:/LMself/yolo/yolov10/ultralytics/cfg/models/v10/yolov10m.yaml'\n",
    " \n",
    "if __name__ == '__main__':\n",
    "    #加载预训练模型\n",
    "    model = YOLOv10(pre_model_name)\n",
    "    #训练生成的文件保存路径名\n",
    "    savename = 'train_yolov10s'\n",
    "    #训练模型\n",
    "    results = model.train(data=data_yaml_path,\n",
    "                          epochs=10,\n",
    "                          name=savename)"
   ]
  }
 ],
 "metadata": {
  "kernelspec": {
   "display_name": "paddle_24",
   "language": "python",
   "name": "python3"
  },
  "language_info": {
   "codemirror_mode": {
    "name": "ipython",
    "version": 3
   },
   "file_extension": ".py",
   "mimetype": "text/x-python",
   "name": "python",
   "nbconvert_exporter": "python",
   "pygments_lexer": "ipython3",
   "version": "3.9.18"
  }
 },
 "nbformat": 4,
 "nbformat_minor": 2
}
