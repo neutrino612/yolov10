{
 "cells": [
  {
   "cell_type": "code",
   "execution_count": 1,
   "metadata": {},
   "outputs": [],
   "source": [
    "import onnxruntime as ort\n",
    "session = ort.InferenceSession(\"yolov10m.onnx\", providers=[\"CPUExecutionProvider\"])"
   ]
  },
  {
   "cell_type": "markdown",
   "metadata": {},
   "source": [
    "这里的providers参数根据自己的实际情况设置，我使用的是GPU所以设置的是\"CUDAExecutionProvider\"。\n",
    "如果用CPU进行推理，则需设置为\"CPUExecutionProvider\"；\n",
    "如果有TensorRT的环境，还可以设置为\"TensorrtExecutionProvider\""
   ]
  },
  {
   "cell_type": "code",
   "execution_count": 2,
   "metadata": {},
   "outputs": [
    {
     "name": "stdout",
     "output_type": "stream",
     "text": [
      "input name:  images\n",
      "input shape:  [1, 3, 640, 640]\n",
      "input type:  tensor(float)\n",
      "output name:  output0\n",
      "output shape:  [1, 300, 6]\n",
      "output type:  tensor(float)\n"
     ]
    }
   ],
   "source": [
    "# 查看模型的输入层和输出层的属性\n",
    "for input in session.get_inputs():\n",
    "   print(\"input name: \", input.name)\n",
    "   print(\"input shape: \", input.shape)\n",
    "   print(\"input type: \", input.type)\n",
    "\n",
    "for output in session.get_outputs():\n",
    "   print(\"output name: \", output.name)\n",
    "   print(\"output shape: \", output.shape)\n",
    "   print(\"output type: \", output.type)"
   ]
  },
  {
   "cell_type": "markdown",
   "metadata": {},
   "source": [
    "从上面的打印信息可以知道，模型有一个尺寸为[1, 3, 640, 640]的输入层和一个尺寸分别为[1, 300, 6]的输出层。"
   ]
  },
  {
   "cell_type": "code",
   "execution_count": 10,
   "metadata": {},
   "outputs": [],
   "source": [
    "import cv2\n",
    "import numpy as np"
   ]
  },
  {
   "cell_type": "code",
   "execution_count": 11,
   "metadata": {},
   "outputs": [],
   "source": [
    "# 实现下面数据预处理的函数，preprocess\n",
    "def preprocess(bgr_image, src_w, src_h, dst_w, dst_h):\n",
    "   image = cv2.cvtColor(bgr_image, cv2.COLOR_BGR2RGB)\n",
    "   \n",
    "   ratio = min(dst_w/src_w, dst_h/src_h)\n",
    "   border_w = int(round(src_w * ratio / 2) * 2)\n",
    "   border_h = int(round(src_h * ratio / 2) * 2)\n",
    "   x_offset = (dst_w - border_w ) // 2  \n",
    "   y_offset = (dst_h - border_h ) // 2\n",
    "\n",
    "   image = cv2.resize(image, (border_w, border_h))\n",
    "   image = cv2.copyMakeBorder(\n",
    "       image, y_offset, y_offset, x_offset, x_offset, \n",
    "       cv2.BORDER_CONSTANT, value=(114, 114, 114)\n",
    "       )\n",
    "\n",
    "   image = image.astype(np.float32) / 255.0\n",
    "   image = np.transpose(image, (2, 0, 1))\n",
    "   input_tensor = np.expand_dims(image, axis=0)\n",
    "   return input_tensor, ratio, x_offset, y_offset\n"
   ]
  },
  {
   "cell_type": "markdown",
   "metadata": {},
   "source": [
    "整个数据预处理的流程如下：\n",
    "上面的preprocess函数：\n",
    "把OpenCV读取的BGR格式图片转换为RGB格式；\n",
    "计算缩放比例和需要填充的区域，把原始图片进行等比例缩放，对不足的区域进行填充让输入图片的尺寸匹配模型的输入尺寸；\n",
    "对像素值除以255做归一化操作；\n",
    "把图像数据的通道顺序由HWC调整为CHW；\n",
    "扩展数据维度，将数据的维度调整为NCHW。"
   ]
  },
  {
   "cell_type": "code",
   "execution_count": 12,
   "metadata": {},
   "outputs": [
    {
     "name": "stdout",
     "output_type": "stream",
     "text": [
      "image shape:  (2160, 3840, 3)\n"
     ]
    }
   ],
   "source": [
    "#       数据预处理 用opencv读取图片后，首先要做预处理                                                                                                                                                                                                                                                                                                                                                                                                                                                                       数据预处理\n",
    "image = cv2.imread(\"DJI_20240616080249_0066_V.jpeg\")\n",
    "print(\"image shape: \", image.shape)\n",
    "image_height, image_width, _ = image.shape\n",
    "_, _, model_height, model_width = session.get_inputs()[0].shape\n",
    "\n",
    "input_tensor, ratio, x_offset, y_offset = preprocess(image, image_width, image_height, model_width, model_height)\n"
   ]
  }
 ],
 "metadata": {
  "kernelspec": {
   "display_name": "paddle_24",
   "language": "python",
   "name": "python3"
  },
  "language_info": {
   "codemirror_mode": {
    "name": "ipython",
    "version": 3
   },
   "file_extension": ".py",
   "mimetype": "text/x-python",
   "name": "python",
   "nbconvert_exporter": "python",
   "pygments_lexer": "ipython3",
   "version": "3.9.18"
  }
 },
 "nbformat": 4,
 "nbformat_minor": 2
}
